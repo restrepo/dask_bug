{
 "cells": [
  {
   "cell_type": "markdown",
   "metadata": {
    "colab_type": "text",
    "id": "view-in-github"
   },
   "source": [
    "<a href=\"https://colab.research.google.com/github/restrepo/dask_bug/blob/master/dfdask.ipynb\" target=\"_parent\"><img src=\"https://colab.research.google.com/assets/colab-badge.svg\" alt=\"Open In Colab\"/></a>"
   ]
  },
  {
   "cell_type": "markdown",
   "metadata": {
    "colab_type": "text",
    "id": "VpmfwFOQr4JR"
   },
   "source": [
    "# Dask bug report\n",
    "Real json data from http://lens.org. The original data with exactly the same `ValueError` to be shown below, is for some specific set of 50,000 records in a file of 150MB. Other similar sets do not show the error and load smootly. Here one small extract of 191 records displaying exactly the same error. \n",
    "\n",
    "The error appears when trying to load a json file into a Dask DataFrame with the `blocksize` option with some specific number of records, in this example: 191 records. The error seem to not depend on some specific record, e.g the first one or the last one, or any subset as displayed below:\n",
    "\n",
    "The solution is given here: https://stackoverflow.com/a/55027036/2268280\n",
    "\n",
    "> You might consider increasing the size of the sample that Dask reads when determining metadata like column names.\n",
    "```python\n",
    "df = dd.read_json(..., sample=2**26)\n",
    "```"
   ]
  },
  {
   "cell_type": "code",
   "execution_count": 1,
   "metadata": {
    "colab": {},
    "colab_type": "code",
    "id": "pb7FTFqRr4JU"
   },
   "outputs": [],
   "source": [
    "import dask.dataframe as dd"
   ]
  },
  {
   "cell_type": "code",
   "execution_count": 3,
   "metadata": {
    "colab": {},
    "colab_type": "code",
    "id": "5cHK8N8msKT6"
   },
   "outputs": [],
   "source": [
    "!wget https://github.com/restrepo/dask_bug/raw/master/data.json 2> /dev/null"
   ]
  },
  {
   "cell_type": "markdown",
   "metadata": {
    "colab_type": "text",
    "id": "taDYXp6Tr4JZ"
   },
   "source": [
    "Not problem without `blocksize`"
   ]
  },
  {
   "cell_type": "code",
   "execution_count": 4,
   "metadata": {
    "colab": {
     "base_uri": "https://localhost:8080/",
     "height": 35
    },
    "colab_type": "code",
    "id": "u6oHEM3br4Ja",
    "outputId": "9cd3e2b3-9ad3-4a30-b7a1-41754788b0b5"
   },
   "outputs": [
    {
     "data": {
      "text/plain": [
       "(191, 23)"
      ]
     },
     "execution_count": 4,
     "metadata": {},
     "output_type": "execute_result"
    }
   ],
   "source": [
    "ln=dd.read_json('data.json')\n",
    "ln.compute().shape"
   ]
  },
  {
   "cell_type": "code",
   "execution_count": 5,
   "metadata": {},
   "outputs": [
    {
     "data": {
      "text/plain": [
       "(191, 23)"
      ]
     },
     "execution_count": 5,
     "metadata": {},
     "output_type": "execute_result"
    }
   ],
   "source": [
    "ln=dd.read_json('data.json',blocksize=50e6,sample=2**26)\n",
    "ln.compute().shape"
   ]
  },
  {
   "cell_type": "markdown",
   "metadata": {
    "colab_type": "text",
    "id": "Be0goWTYr4Jg"
   },
   "source": [
    "Force `ValueError` with first record and any `blocksize`"
   ]
  },
  {
   "cell_type": "code",
   "execution_count": 6,
   "metadata": {
    "colab": {},
    "colab_type": "code",
    "id": "9wIIpcsQr4Jh"
   },
   "outputs": [],
   "source": [
    "%%bash\n",
    "tail -n191 data.json > bad.json\n",
    "tail -n190 data.json > good.json"
   ]
  },
  {
   "cell_type": "code",
   "execution_count": 7,
   "metadata": {
    "colab": {
     "base_uri": "https://localhost:8080/",
     "height": 35
    },
    "colab_type": "code",
    "id": "yyQPSn7Ur4Jj",
    "outputId": "58f37f24-5224-4980-9dc6-b48c80420b5b"
   },
   "outputs": [
    {
     "data": {
      "text/plain": [
       "(190, 23)"
      ]
     },
     "execution_count": 7,
     "metadata": {},
     "output_type": "execute_result"
    }
   ],
   "source": [
    "ln=dd.read_json('good.json',blocksize=50e6,sample=2**26)\n",
    "ln.compute().shape"
   ]
  },
  {
   "cell_type": "code",
   "execution_count": 8,
   "metadata": {
    "colab": {
     "base_uri": "https://localhost:8080/",
     "height": 35
    },
    "colab_type": "code",
    "id": "ITa05U09r4Jm",
    "outputId": "ec51a30f-c814-4016-8c4f-0c1f59b7caa2"
   },
   "outputs": [
    {
     "data": {
      "text/plain": [
       "(191, 23)"
      ]
     },
     "execution_count": 8,
     "metadata": {},
     "output_type": "execute_result"
    }
   ],
   "source": [
    "ln=dd.read_json('bad.json',blocksize=50e6,sample=2**26)\n",
    "ln.compute().shape"
   ]
  },
  {
   "cell_type": "markdown",
   "metadata": {
    "colab_type": "text",
    "id": "ooz1gPwPr4Jp"
   },
   "source": [
    "Force `ValueError` with last record and any `blocksize`"
   ]
  },
  {
   "cell_type": "code",
   "execution_count": 9,
   "metadata": {
    "colab": {},
    "colab_type": "code",
    "id": "lcDxrcLUr4Jp"
   },
   "outputs": [],
   "source": [
    "%%bash\n",
    "head -n191 data.json > bad.json\n",
    "head -n190 data.json > good.json"
   ]
  },
  {
   "cell_type": "code",
   "execution_count": 10,
   "metadata": {
    "colab": {
     "base_uri": "https://localhost:8080/",
     "height": 35
    },
    "colab_type": "code",
    "id": "KUNSdXj2r4Jr",
    "outputId": "95d4ce9a-b1f8-4fa3-a070-6198f477d192"
   },
   "outputs": [
    {
     "data": {
      "text/plain": [
       "(190, 23)"
      ]
     },
     "execution_count": 10,
     "metadata": {},
     "output_type": "execute_result"
    }
   ],
   "source": [
    "ln=dd.read_json('good.json',blocksize=50e6,sample=2**26)\n",
    "ln.compute().shape"
   ]
  },
  {
   "cell_type": "code",
   "execution_count": 11,
   "metadata": {
    "colab": {
     "base_uri": "https://localhost:8080/",
     "height": 35
    },
    "colab_type": "code",
    "id": "PXRSnz1Rr4Ju",
    "outputId": "cde4a0fc-0b9f-453d-ac3f-00a6a7f3c969"
   },
   "outputs": [
    {
     "data": {
      "text/plain": [
       "(191, 23)"
      ]
     },
     "execution_count": 11,
     "metadata": {},
     "output_type": "execute_result"
    }
   ],
   "source": [
    "ln=dd.read_json('bad.json',blocksize=50e6,sample=2**26)\n",
    "ln.compute().shape"
   ]
  },
  {
   "cell_type": "markdown",
   "metadata": {
    "colab_type": "text",
    "id": "kMbClW5tr4Jw"
   },
   "source": [
    "Any partial data set with less than 191 records loads properly:"
   ]
  },
  {
   "cell_type": "code",
   "execution_count": 12,
   "metadata": {
    "colab": {},
    "colab_type": "code",
    "id": "TIdHYyZNr4Jx"
   },
   "outputs": [],
   "source": [
    "! head -n120 data.json| tail -n10  > good.json"
   ]
  },
  {
   "cell_type": "code",
   "execution_count": 13,
   "metadata": {
    "colab": {
     "base_uri": "https://localhost:8080/",
     "height": 35
    },
    "colab_type": "code",
    "id": "3yHl8GNvr4Jz",
    "outputId": "8c0219cd-d615-4b43-b4b8-ca65b001d54d"
   },
   "outputs": [
    {
     "data": {
      "text/plain": [
       "(10, 23)"
      ]
     },
     "execution_count": 13,
     "metadata": {},
     "output_type": "execute_result"
    }
   ],
   "source": [
    "ln=dd.read_json('good.json',blocksize=50e6,sample=2**26)\n",
    "ln.compute().shape"
   ]
  },
  {
   "cell_type": "code",
   "execution_count": null,
   "metadata": {
    "colab": {},
    "colab_type": "code",
    "id": "C-OF9kqvsiZr"
   },
   "outputs": [],
   "source": []
  }
 ],
 "metadata": {
  "colab": {
   "include_colab_link": true,
   "name": "dfdask.ipynb",
   "provenance": [],
   "version": "0.3.2"
  },
  "kernelspec": {
   "display_name": "Python 3",
   "language": "python",
   "name": "python3"
  },
  "language_info": {
   "codemirror_mode": {
    "name": "ipython",
    "version": 3
   },
   "file_extension": ".py",
   "mimetype": "text/x-python",
   "name": "python",
   "nbconvert_exporter": "python",
   "pygments_lexer": "ipython3",
   "version": "3.5.3"
  }
 },
 "nbformat": 4,
 "nbformat_minor": 2
}
