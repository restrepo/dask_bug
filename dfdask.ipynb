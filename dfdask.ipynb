{
  "nbformat": 4,
  "nbformat_minor": 0,
  "metadata": {
    "colab": {
      "name": "dfdask.ipynb",
      "version": "0.3.2",
      "provenance": [],
      "include_colab_link": true
    },
    "language_info": {
      "codemirror_mode": {
        "name": "ipython",
        "version": 3
      },
      "file_extension": ".py",
      "mimetype": "text/x-python",
      "name": "python",
      "nbconvert_exporter": "python",
      "pygments_lexer": "ipython3",
      "version": "3.5.3"
    },
    "kernelspec": {
      "display_name": "Python 3",
      "language": "python",
      "name": "python3"
    }
  },
  "cells": [
    {
      "cell_type": "markdown",
      "metadata": {
        "id": "view-in-github",
        "colab_type": "text"
      },
      "source": [
        "<a href=\"https://colab.research.google.com/github/restrepo/dask_bug/blob/master/dfdask.ipynb\" target=\"_parent\"><img src=\"https://colab.research.google.com/assets/colab-badge.svg\" alt=\"Open In Colab\"/></a>"
      ]
    },
    {
      "cell_type": "markdown",
      "metadata": {
        "id": "VpmfwFOQr4JR",
        "colab_type": "text"
      },
      "source": [
        "# Dask bug report\n",
        "Real json data from http://lens.org. The original data with exactly the same `ValueError` to be shown below, is for some specific set of 50,000 records in a file of 150MB. Other similar sets do not show the error and load smootly. Here one small extract of 191 records displaying exactly the same error. \n",
        "\n",
        "The error appears when trying to load a json file into a Dask DataFrame with the `blocksize` option with some specific number of records, in this example: 191 records. The error seem to not depend on some specific record, e.g the first one or the last one, or any subset as displayed below:"
      ]
    },
    {
      "cell_type": "code",
      "metadata": {
        "id": "pb7FTFqRr4JU",
        "colab_type": "code",
        "colab": {}
      },
      "source": [
        "import dask.dataframe as dd"
      ],
      "execution_count": 0,
      "outputs": []
    },
    {
      "cell_type": "code",
      "metadata": {
        "id": "5cHK8N8msKT6",
        "colab_type": "code",
        "colab": {}
      },
      "source": [
        "!wget https://github.com/restrepo/dask_bug/raw/master/data.json 2> /dev/nul"
      ],
      "execution_count": 0,
      "outputs": []
    },
    {
      "cell_type": "markdown",
      "metadata": {
        "id": "taDYXp6Tr4JZ",
        "colab_type": "text"
      },
      "source": [
        "Not problem without `blocksize`"
      ]
    },
    {
      "cell_type": "code",
      "metadata": {
        "id": "u6oHEM3br4Ja",
        "colab_type": "code",
        "colab": {
          "base_uri": "https://localhost:8080/",
          "height": 35
        },
        "outputId": "9cd3e2b3-9ad3-4a30-b7a1-41754788b0b5"
      },
      "source": [
        "ln=dd.read_json('data.json')\n",
        "ln.compute().shape"
      ],
      "execution_count": 5,
      "outputs": [
        {
          "output_type": "execute_result",
          "data": {
            "text/plain": [
              "(191, 23)"
            ]
          },
          "metadata": {
            "tags": []
          },
          "execution_count": 5
        }
      ]
    },
    {
      "cell_type": "markdown",
      "metadata": {
        "id": "Be0goWTYr4Jg",
        "colab_type": "text"
      },
      "source": [
        "Force `ValueError` with first record and any `blocksize`"
      ]
    },
    {
      "cell_type": "code",
      "metadata": {
        "id": "9wIIpcsQr4Jh",
        "colab_type": "code",
        "colab": {}
      },
      "source": [
        "%%bash\n",
        "tail -n191 data.json > bad.json\n",
        "tail -n190 data.json > good.json"
      ],
      "execution_count": 0,
      "outputs": []
    },
    {
      "cell_type": "code",
      "metadata": {
        "id": "yyQPSn7Ur4Jj",
        "colab_type": "code",
        "colab": {
          "base_uri": "https://localhost:8080/",
          "height": 35
        },
        "outputId": "58f37f24-5224-4980-9dc6-b48c80420b5b"
      },
      "source": [
        "ln=dd.read_json('good.json',blocksize=50e6)\n",
        "ln.compute().shape"
      ],
      "execution_count": 7,
      "outputs": [
        {
          "output_type": "execute_result",
          "data": {
            "text/plain": [
              "(190, 23)"
            ]
          },
          "metadata": {
            "tags": []
          },
          "execution_count": 7
        }
      ]
    },
    {
      "cell_type": "code",
      "metadata": {
        "id": "ITa05U09r4Jm",
        "colab_type": "code",
        "colab": {
          "base_uri": "https://localhost:8080/",
          "height": 35
        },
        "outputId": "ec51a30f-c814-4016-8c4f-0c1f59b7caa2"
      },
      "source": [
        "ln=dd.read_json('bad.json',blocksize=50e6)\n",
        "ln.compute().shape"
      ],
      "execution_count": 8,
      "outputs": [
        {
          "output_type": "execute_result",
          "data": {
            "text/plain": [
              "(191, 23)"
            ]
          },
          "metadata": {
            "tags": []
          },
          "execution_count": 8
        }
      ]
    },
    {
      "cell_type": "markdown",
      "metadata": {
        "id": "ooz1gPwPr4Jp",
        "colab_type": "text"
      },
      "source": [
        "Force `ValueError` with last record and any `blocksize`"
      ]
    },
    {
      "cell_type": "code",
      "metadata": {
        "id": "lcDxrcLUr4Jp",
        "colab_type": "code",
        "colab": {}
      },
      "source": [
        "%%bash\n",
        "head -n191 data.json > bad.json\n",
        "head -n190 data.json > good.json"
      ],
      "execution_count": 0,
      "outputs": []
    },
    {
      "cell_type": "code",
      "metadata": {
        "id": "KUNSdXj2r4Jr",
        "colab_type": "code",
        "colab": {
          "base_uri": "https://localhost:8080/",
          "height": 35
        },
        "outputId": "95d4ce9a-b1f8-4fa3-a070-6198f477d192"
      },
      "source": [
        "ln=dd.read_json('good.json',blocksize=50e6)\n",
        "ln.compute().shape"
      ],
      "execution_count": 10,
      "outputs": [
        {
          "output_type": "execute_result",
          "data": {
            "text/plain": [
              "(190, 23)"
            ]
          },
          "metadata": {
            "tags": []
          },
          "execution_count": 10
        }
      ]
    },
    {
      "cell_type": "code",
      "metadata": {
        "id": "PXRSnz1Rr4Ju",
        "colab_type": "code",
        "colab": {
          "base_uri": "https://localhost:8080/",
          "height": 35
        },
        "outputId": "cde4a0fc-0b9f-453d-ac3f-00a6a7f3c969"
      },
      "source": [
        "ln=dd.read_json('bad.json',blocksize=50e6)\n",
        "ln.compute().shape"
      ],
      "execution_count": 11,
      "outputs": [
        {
          "output_type": "execute_result",
          "data": {
            "text/plain": [
              "(191, 23)"
            ]
          },
          "metadata": {
            "tags": []
          },
          "execution_count": 11
        }
      ]
    },
    {
      "cell_type": "markdown",
      "metadata": {
        "id": "kMbClW5tr4Jw",
        "colab_type": "text"
      },
      "source": [
        "Any partial data set with less than 191 records loads properly:"
      ]
    },
    {
      "cell_type": "code",
      "metadata": {
        "id": "TIdHYyZNr4Jx",
        "colab_type": "code",
        "colab": {}
      },
      "source": [
        "! head -n120 data.json| tail -n10  > good.json"
      ],
      "execution_count": 0,
      "outputs": []
    },
    {
      "cell_type": "code",
      "metadata": {
        "id": "3yHl8GNvr4Jz",
        "colab_type": "code",
        "colab": {
          "base_uri": "https://localhost:8080/",
          "height": 35
        },
        "outputId": "8c0219cd-d615-4b43-b4b8-ca65b001d54d"
      },
      "source": [
        "ln=dd.read_json('good.json',blocksize=50e6)\n",
        "ln.compute().shape"
      ],
      "execution_count": 13,
      "outputs": [
        {
          "output_type": "execute_result",
          "data": {
            "text/plain": [
              "(10, 23)"
            ]
          },
          "metadata": {
            "tags": []
          },
          "execution_count": 13
        }
      ]
    },
    {
      "cell_type": "code",
      "metadata": {
        "id": "C-OF9kqvsiZr",
        "colab_type": "code",
        "colab": {}
      },
      "source": [
        ""
      ],
      "execution_count": 0,
      "outputs": []
    }
  ]
}